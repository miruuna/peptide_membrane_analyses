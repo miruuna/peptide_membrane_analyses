{
 "cells": [
  {
   "cell_type": "code",
   "execution_count": 9,
   "metadata": {},
   "outputs": [
    {
     "data": {
      "text/plain": [
       "False"
      ]
     },
     "execution_count": 9,
     "metadata": {},
     "output_type": "execute_result"
    }
   ],
   "source": [
    "from tqdm import tqdm\n",
    "import numpy as np\n",
    "import MDAnalysis as mda\n",
    "\n",
    "import pandas as pd\n",
    "from pathlib import Path\n",
    "import MDAnalysis.transformations as trans\n",
    "\n",
    "import os\n",
    "import sys\n",
    "import matplotlib.pyplot as plt\n",
    "from dotenv import load_dotenv\n",
    "load_dotenv()\n"
   ]
  },
  {
   "cell_type": "code",
   "execution_count": 10,
   "metadata": {},
   "outputs": [],
   "source": [
    "# Load simulations\n",
    "step_size = 500\n",
    "\n",
    "class Peptide:\n",
    "    def __init__(self, xtc_file_path, tpr_file_path, peptide_number, amino_acid_count):\n",
    "        self.xtc_file_path = xtc_file_path\n",
    "        self.tpr_file_path = tpr_file_path\n",
    "        self.peptide_number = peptide_number\n",
    "        self.amino_acid_count = amino_acid_count\n",
    "        self.u = mda.Universe(tpr_file_path, xtc_file_path)\n",
    "        self.u.trajectory.add_transformations(trans.unwrap(self.u.select_atoms(f\"backbone\")))\n",
    "        self.protein_atoms = self.u.select_atoms(\"protein\")\n",
    "        self.prot_residues = self.protein_atoms.residues\n",
    "        self.res_names = self.prot_residues.resnames\n",
    "        self.res_ids = self.prot_residues.residues.resids\n",
    "        self.resid_maps = {i+1:j for i, j in enumerate(self.res_ids)}\n",
    "        self.pep_dict = {\n",
    "            k: ((k-1)*amino_acid_count+1, k*amino_acid_count) for k in range(1, peptide_number+1)\n",
    "        }\n",
    "        self.pep_dict = {k: (self.resid_maps[i[0]], self.resid_maps[i[1]]) for k,i in self.pep_dict.items()}\n",
    "\n",
    "        self.start_id = self.pep_dict[1][0]\n",
    "        self.end_id = self.pep_dict[1][1]\n",
    "\n",
    "\n",
    "    def load_traj(self):\n",
    "        stop_sim = None\n",
    "        start, stop_sim, step = self.u.trajectory.check_slice_indices(None, None, None)\n",
    "\n",
    "        frames = np.arange(start, stop_sim, step_size)\n",
    "        n_frames = frames.size\n",
    "\n",
    "        frames_pd = pd.DataFrame(frames)\n",
    "        # frames_pd.to_csv(f\"{base_folder}/frames.csv\")\n",
    "        return frames, n_frames\n",
    "    \n"
   ]
  },
  {
   "cell_type": "code",
   "execution_count": 11,
   "metadata": {},
   "outputs": [],
   "source": [
    "WF2_8_1 = Peptide(\n",
    "    \"/Volumes/miru_back/young_concentration_WF2/WF2_8/md_0_1_combined_first500ns_pbc.xtc\",\n",
    "    \"/Volumes/miru_back/young_concentration_WF2/WF2_8/md_0_1.tpr\",\n",
    "    8, 25\n",
    ")\n",
    "\n",
    "WF2_16_1 = Peptide(\n",
    "    \"/Volumes/miru_back/young_concentration_WF2/WF2_16/md_0_1_combined_first500ns_pbc.xtc\",\n",
    "    \"/Volumes/miru_back/young_concentration_WF2/WF2_16/md_0_1.tpr\",\n",
    "    16, 25\n",
    ")\n",
    "\n",
    "WF2_24_1 = Peptide(\n",
    "    \"/Volumes/miru_back/young_concentration_WF2/WF2_24/md_0_1_combined_first500ns_pbc.xtc\",\n",
    "    \"/Volumes/miru_back/young_concentration_WF2/WF2_24/md_0_1.tpr\",\n",
    "    24, 25\n",
    ")\n",
    "WF2_32_1 = Peptide(\n",
    "    \"/Volumes/miru_back/young_concentration_WF2/WF2_32/md_0_1_combined_first500ns_pbc.xtc\",\n",
    "    \"/Volumes/miru_back/young_concentration_WF2/WF2_32/md_0_1.tpr\",\n",
    "    32, 25\n",
    ")\n",
    "\n",
    "WF2_8_2 = Peptide(\n",
    "    \"/Volumes/miru_back/young_concentration_WF2/popg_replicas/WF2_8_pg_2/md_0_1_combined_first500ns_pbc.xtc\",\n",
    "     \"/Volumes/miru_back/young_concentration_WF2/popg_replicas/WF2_8_pg_2/md_0_1.tpr\",\n",
    "    8, 25\n",
    ")\n",
    "\n",
    "WF2_16_2 = Peptide(\n",
    "    \"/Volumes/miru_back/young_concentration_WF2/popg_replicas/WF2_16_pg_2/md_0_1_combined_first500ns_pbc.xtc\",\n",
    "    \"/Volumes/miru_back/young_concentration_WF2/popg_replicas/WF2_16_pg_2/md_0_1.tpr\",\n",
    "    16, 25\n",
    ")\n",
    "\n",
    "WF2_24_2 = Peptide(\n",
    "   \"/Volumes/miru_back/young_concentration_WF2/popg_replicas/WF2_24_pg_2/md_0_1_combined_first500ns_pbc.xtc\",\n",
    "    \"/Volumes/miru_back/young_concentration_WF2/popg_replicas/WF2_24_pg_2/md_0_1.tpr\",\n",
    "    24, 25\n",
    ")\n",
    "WF2_32_2 = Peptide(\n",
    "    \"/Volumes/miru_back/young_concentration_WF2/popg_replicas/WF2_32_pg_2/md_0_1_combined_first500ns_pbc.xtc\",\n",
    "    \"/Volumes/miru_back/young_concentration_WF2/popg_replicas/WF2_32_pg_2/md_0_1.tpr\",\n",
    "    32, 25\n",
    ")"
   ]
  },
  {
   "cell_type": "code",
   "execution_count": 26,
   "metadata": {},
   "outputs": [],
   "source": [
    "def get_membrane_c2(obj):\n",
    "    # L = leaflet.LeafletFinder(obj.u, 'name C2')\n",
    "\n",
    "    start_sim, stop_sim, step = obj.u.trajectory.check_slice_indices(None, None, 50)\n",
    "    frames = np.arange(start_sim, stop_sim, 50)\n",
    "    n_frames = frames.size\n",
    "    water_time = []\n",
    "    for frame_index, _ in tqdm(enumerate(obj.u.trajectory[frames]), total=n_frames):\n",
    "        p_memb = obj.u.select_atoms(f'resname POPG and name C2').positions[:,[2]].astype(float)\n",
    "        c2_up = np.min(p_memb[:256])\n",
    "        c2_low = np.max(p_memb[256:])\n",
    "        mid_c2 =  (c2_up + c2_low)/2\n",
    "        water_mols = obj.u.select_atoms(f\"(resname SOL and name OW) and (prop abs z < {c2_up}) and (prop abs z > {mid_c2})\")\n",
    "        water_time.append([frame_index, len(water_mols), c2_up, mid_c2])\n",
    "    return water_time"
   ]
  },
  {
   "cell_type": "code",
   "execution_count": 27,
   "metadata": {},
   "outputs": [],
   "source": [
    "\n",
    "def calc_and_write_to_file(obj, obj_name):\n",
    "    results_directory = f\"memb_hydr\"\n",
    "    Path(results_directory).mkdir(parents=True, exist_ok=True)\n",
    "    data = get_membrane_c2(obj)\n",
    "    df = pd.DataFrame(data, columns=[\"Time frame\", \"Waters\", \"C_up\", \"c_mid\"])\n",
    "    df.to_csv(f\"memb_hydr/memb_hydr_{obj_name}.csv\")\n",
    "    print(f\"{obj_name} --- DONE\")\n",
    "    return data"
   ]
  },
  {
   "cell_type": "code",
   "execution_count": 29,
   "metadata": {},
   "outputs": [
    {
     "name": "stderr",
     "output_type": "stream",
     "text": [
      "100%|██████████| 501/501 [01:46<00:00,  4.68it/s]\n"
     ]
    },
    {
     "name": "stdout",
     "output_type": "stream",
     "text": [
      "WF2_8_1 --- DONE\n"
     ]
    },
    {
     "name": "stderr",
     "output_type": "stream",
     "text": [
      "100%|██████████| 501/501 [01:42<00:00,  4.87it/s]\n"
     ]
    },
    {
     "name": "stdout",
     "output_type": "stream",
     "text": [
      "WF2_16_1 --- DONE\n"
     ]
    },
    {
     "name": "stderr",
     "output_type": "stream",
     "text": [
      "100%|██████████| 500/500 [01:34<00:00,  5.30it/s]\n"
     ]
    },
    {
     "name": "stdout",
     "output_type": "stream",
     "text": [
      "WF2_24_1 --- DONE\n"
     ]
    },
    {
     "name": "stderr",
     "output_type": "stream",
     "text": [
      "100%|██████████| 495/495 [01:40<00:00,  4.90it/s]\n"
     ]
    },
    {
     "name": "stdout",
     "output_type": "stream",
     "text": [
      "WF2_32_1 --- DONE\n"
     ]
    },
    {
     "name": "stderr",
     "output_type": "stream",
     "text": [
      "100%|██████████| 501/501 [01:57<00:00,  4.25it/s]\n"
     ]
    },
    {
     "name": "stdout",
     "output_type": "stream",
     "text": [
      "WF2_8_2 --- DONE\n"
     ]
    },
    {
     "name": "stderr",
     "output_type": "stream",
     "text": [
      "100%|██████████| 501/501 [02:04<00:00,  4.01it/s]\n"
     ]
    },
    {
     "name": "stdout",
     "output_type": "stream",
     "text": [
      "WF2_16_2 --- DONE\n"
     ]
    },
    {
     "name": "stderr",
     "output_type": "stream",
     "text": [
      "100%|██████████| 501/501 [01:47<00:00,  4.64it/s]\n"
     ]
    },
    {
     "name": "stdout",
     "output_type": "stream",
     "text": [
      "WF2_24_2 --- DONE\n"
     ]
    },
    {
     "name": "stderr",
     "output_type": "stream",
     "text": [
      "100%|██████████| 501/501 [01:33<00:00,  5.37it/s]"
     ]
    },
    {
     "name": "stdout",
     "output_type": "stream",
     "text": [
      "WF2_32_2 --- DONE\n"
     ]
    },
    {
     "name": "stderr",
     "output_type": "stream",
     "text": [
      "\n"
     ]
    }
   ],
   "source": [
    "for obj_name, obj in [(\"WF2_8_1\", WF2_8_1), (\"WF2_16_1\", WF2_16_1), (\"WF2_24_1\", WF2_24_1), (\"WF2_32_1\", WF2_32_1),(\"WF2_8_2\", WF2_8_2), (\"WF2_16_2\", WF2_16_2), (\"WF2_24_2\", WF2_24_2), (\"WF2_32_2\", WF2_32_2)]:\n",
    "      calc_and_write_to_file(obj,obj_name)"
   ]
  },
  {
   "cell_type": "code",
   "execution_count": null,
   "metadata": {},
   "outputs": [],
   "source": []
  }
 ],
 "metadata": {
  "kernelspec": {
   "display_name": "wf_synergy_all_peps",
   "language": "python",
   "name": "python3"
  },
  "language_info": {
   "codemirror_mode": {
    "name": "ipython",
    "version": 3
   },
   "file_extension": ".py",
   "mimetype": "text/x-python",
   "name": "python",
   "nbconvert_exporter": "python",
   "pygments_lexer": "ipython3",
   "version": "3.9.16"
  }
 },
 "nbformat": 4,
 "nbformat_minor": 2
}
