{
 "cells": [
  {
   "cell_type": "code",
   "execution_count": 1,
   "metadata": {},
   "outputs": [],
   "source": [
    "import MDAnalysis as mda\n",
    "from MDAnalysis.analysis import lineardensity as lin\n",
    "import MDAnalysis.transformations as trans\n",
    "\n",
    "\n",
    "import pandas as pd\n",
    "import numpy as np\n",
    "import matplotlib.pyplot as plt\n",
    "from tqdm import tqdm\n",
    "import seaborn as sns\n"
   ]
  },
  {
   "cell_type": "code",
   "execution_count": 2,
   "metadata": {},
   "outputs": [],
   "source": [
    "step_size=100"
   ]
  },
  {
   "cell_type": "code",
   "execution_count": 3,
   "metadata": {},
   "outputs": [],
   "source": [
    "# Load simulations\n",
    "\n",
    "class Peptide:\n",
    "\n",
    "    def __init__(self, pep_name, xtc_file_path, tpr_file_path, peptide_number, amino_acid_count):\n",
    "        \n",
    "        self.xtc_file_path = xtc_file_path\n",
    "        self.tpr_file_path = tpr_file_path\n",
    "        self.peptide_number = peptide_number\n",
    "        self.amino_acid_count = amino_acid_count\n",
    "        self.u = mda.Universe(tpr_file_path, xtc_file_path)\n",
    "        self.u.trajectory.add_transformations(trans.unwrap(self.u.select_atoms(f\"backbone\")))\n",
    "        self.protein_atoms = self.u.select_atoms(\"protein\")\n",
    "        self.prot_residues = self.protein_atoms.residues\n",
    "        self.res_names = self.prot_residues.resnames\n",
    "        self.res_ids = self.prot_residues.residues.resids\n",
    "        self.resid_maps = {i+1:j for i, j in enumerate(self.res_ids)}\n",
    "        self.pep_dict = {\n",
    "            k: ((k-1)*amino_acid_count+1, k*amino_acid_count) for k in range(1, peptide_number+1)\n",
    "        }\n",
    "        self.pep_dict = {k: (self.resid_maps[i[0]], self.resid_maps[i[1]]) for k,i in self.pep_dict.items()}\n",
    "\n",
    "        self.start_id = self.pep_dict[1][0]\n",
    "        self.end_id = self.pep_dict[1][1]\n",
    "        self.pep_name = pep_name\n",
    "\n",
    "\n",
    "    def load_traj(self):\n",
    "\n",
    "        stop_sim = None\n",
    "        start, stop_sim, _ = self.u.trajectory.check_slice_indices(None, None, None)\n",
    "        frames = np.arange(start, stop_sim, step_size)\n",
    "        n_frames = frames.size\n",
    "\n",
    "        return frames, n_frames\n",
    "    \n"
   ]
  },
  {
   "cell_type": "code",
   "execution_count": 6,
   "metadata": {},
   "outputs": [],
   "source": [
    "peptide = Peptide(\n",
    "    \"WF2_8_1\", \n",
    "    \"/Volumes/miru_backup/pleu_conc/pleu8/pleu8/md_0_1.xtc\",\n",
    "    \"/Volumes/miru_backup/pleu_conc/pleu8/pleu8/md_0_1.tpr\",\n",
    "    8, 25)\n"
   ]
  },
  {
   "cell_type": "code",
   "execution_count": 7,
   "metadata": {},
   "outputs": [
    {
     "name": "stderr",
     "output_type": "stream",
     "text": [
      "100%|██████████| 8/8 [00:07<00:00,  1.05it/s]\n"
     ]
    }
   ],
   "source": [
    "\n",
    "for pep_obj in [peptide]:    \n",
    "    data = []\n",
    "    u = pep_obj.u\n",
    "    frames, n_frames = pep_obj.load_traj()\n",
    "    for pep, res_id_range in tqdm(pep_obj.pep_dict.items()):\n",
    "        backbone = u.select_atoms(f\"resid {res_id_range[0]}:{res_id_range[1]} and backbone\")\n",
    "        nterm = u.select_atoms(f\"resid {res_id_range[0]}:{res_id_range[1]} and name N\")[0]\n",
    "        cterm = u.select_atoms(f\"resid {res_id_range[0]}:{res_id_range[1]} and name C\")[-1]\n",
    "\n",
    "        for frame_index, ts in enumerate(u.trajectory[frames]):\n",
    "            r = cterm.position - nterm.position  # end-to-end vector from atom positions\n",
    "            d = np.linalg.norm(r)   # end-to-end distance\n",
    "            rgyr = backbone.radius_of_gyration()  # method of a AtomGroup; updates with each frame\n",
    "            data.append((u.trajectory.time, pep, d, rgyr))\n",
    "\n",
    "    df = pd.DataFrame(data, columns=[\"Time (ns)\", \"Peptide_num\", \"end_to_end_distance\", \"r_gyr\"])\n",
    "    df['Time (ns)'] = df['Time (ns)'].astype(float)/1000\n",
    "    df['Time (ns)'] = df['Time (ns)'].astype(int)\n",
    "    df.to_csv(f\"rgyr_{pep_obj.pep_name}.csv\")     "
   ]
  },
  {
   "cell_type": "code",
   "execution_count": null,
   "metadata": {},
   "outputs": [],
   "source": []
  }
 ],
 "metadata": {
  "kernelspec": {
   "display_name": "wf_synergy_all_peps",
   "language": "python",
   "name": "python3"
  },
  "language_info": {
   "codemirror_mode": {
    "name": "ipython",
    "version": 3
   },
   "file_extension": ".py",
   "mimetype": "text/x-python",
   "name": "python",
   "nbconvert_exporter": "python",
   "pygments_lexer": "ipython3",
   "version": "3.9.16"
  }
 },
 "nbformat": 4,
 "nbformat_minor": 2
}
