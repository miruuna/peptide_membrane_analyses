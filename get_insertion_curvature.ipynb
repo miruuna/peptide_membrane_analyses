{
 "cells": [
  {
   "cell_type": "code",
   "execution_count": 3,
   "metadata": {},
   "outputs": [],
   "source": [
    "from tqdm import tqdm\n",
    "import numpy as np\n",
    "import MDAnalysis as mda\n",
    "\n",
    "import pandas as pd\n",
    "from pathlib import Path\n",
    "import MDAnalysis.transformations as trans\n",
    "import seaborn as sns\n",
    "import os\n",
    "import sys\n",
    "import matplotlib.pyplot as plt\n",
    "from dotenv import load_dotenv\n",
    "load_dotenv()\n",
    "\n",
    "from scipy.spatial import KDTree\n",
    "from scipy.spatial import distance\n",
    "\n",
    "from utils.classes import Peptide"
   ]
  },
  {
   "cell_type": "code",
   "execution_count": 9,
   "metadata": {},
   "outputs": [],
   "source": [
    "step_size = 500 \n",
    "membrane_lipids = 512\n",
    "peptide_name = \"WF2_8_1\"\n",
    "\n",
    "peptide = Peptide(\n",
    "    pep_name=peptide_name,\n",
    "    xtc_file_path=\"/Volumes/miru_back/young_concentration_WF2/WF2_8/md_0_1_combined_first500ns_pbc.xtc\",\n",
    "    tpr_file_path=\"/Volumes/miru_back/young_concentration_WF2/WF2_8/md_0_1.tpr\",\n",
    "    peptide_number=8, amino_acid_count=25, step_size=step_size)"
   ]
  },
  {
   "cell_type": "code",
   "execution_count": 10,
   "metadata": {},
   "outputs": [],
   "source": [
    "def get_index_shortest_distance(point_p, b):\n",
    "\n",
    "    point_p = point_p[0]\n",
    "    distances_array = np.empty(len(b))\n",
    "\n",
    "    for i in range(len(b)):\n",
    "        p = b[i]\n",
    "        distances_array[i] = np.sqrt((point_p[1]-p[1])**2+(point_p[0]-p[0])**2+(point_p[2]-p[2])**2)\n",
    "    distances_array = distances_array[distances_array!=0]\n",
    "\n",
    "    return(b[np.argmin(distances_array)], np.min(distances_array))\n",
    "\n",
    "def get_closest_lipid_z(res_pos, lipids, p_up, p_low):\n",
    "    all_up = lipids\n",
    "    closest_lipid_z = None\n",
    "    kdtree=KDTree(lipids)\n",
    "    \n",
    "    for radius in [(float(p_up) - float(p_low))/2, (float(p_up) - float(p_low)), 20, 40, 80, 120]:\n",
    "        \n",
    "        x = kdtree.query_ball_point(res_pos, radius, return_sorted=True)\n",
    "        \n",
    "        if len(x[0])==0:\n",
    "            continue\n",
    "        else:\n",
    "            closest_lipid_index, distance_closest_lipid = get_index_shortest_distance(res_pos, all_up[x[0]])\n",
    "            return closest_lipid_index[2]"
   ]
  },
  {
   "cell_type": "code",
   "execution_count": 17,
   "metadata": {},
   "outputs": [
    {
     "name": "stderr",
     "output_type": "stream",
     "text": [
      "100%|██████████| 51/51 [01:51<00:00,  2.18s/it]\n"
     ]
    }
   ],
   "source": [
    "\n",
    "u = peptide.u\n",
    "z_pos_list = []\n",
    "frames, n_frames = peptide.load_traj()\n",
    "for frame_index, ts in tqdm(enumerate(u.trajectory[frames]), total=n_frames): \n",
    "    u.select_atoms(f'resname POPG and name P').positions\n",
    "    p_memb = u.select_atoms(f'resname POPG and name P').positions\n",
    "    p_up = np.mean(p_memb[:int(membrane_lipids/2)])\n",
    "    p_low = np.mean(p_memb[int(membrane_lipids/2):])\n",
    "\n",
    "    for pep, res_id_range in peptide.pep_dict.items():\n",
    "        res_count = 1\n",
    "        for res_id in range(res_id_range[0], res_id_range[1]+1):\n",
    "            # Calculate the z pos of each residue one at a time\n",
    "            res_z_pos = np.mean(u.select_atoms(f'name CA and resid {res_id}').positions[:,[2]].astype(float))\n",
    "            res_pos = u.select_atoms(f'name CA and resid {res_id}').positions\n",
    "\n",
    "\n",
    "            # Create list that contains which peptide the residue is in e.g. 1 if it's in peptide 1 etc\n",
    "            p = []\n",
    "\n",
    "            # Determine the actual insertion of each residue\n",
    "            pbc_crossed = 1 if res_z_pos > 0 and res_z_pos < u.dimensions[2]/2 else 0 #This assumes that peptides don't insert more than half than the membrane height\n",
    "\n",
    "            if pbc_crossed == 0:\n",
    "                lipid_z = get_closest_lipid_z(res_pos, p_memb[:int(membrane_lipids/2)], p_up, p_low)\n",
    "\n",
    "                if lipid_z:\n",
    "                    pep_insertion = res_z_pos - lipid_z\n",
    "                    \n",
    "                    z_pos_list.append((u.trajectory.time, pep , res_id, res_count,  pep_insertion, p_up,  p_low, lipid_z, res_z_pos,  pbc_crossed))\n",
    "                    res_count += 1\n",
    "\n",
    "df = pd.DataFrame(z_pos_list, columns=[\"Time (ns)\", \"Peptide_num\", \"Resid\", \"Residue\", \"CA Z position\", \"P_up\", \"P low\", \"lipid_z\", \"res_z_pos\", \"Crossed\"])\n",
    "df['Residue']= df['Residue'].astype('str')\n",
    "df['Time (ns)'] = df['Time (ns)'].astype(float)/1000\n",
    "df['Time (ns)'] = df['Time (ns)'].astype(int)\n",
    "df.to_csv(f\"zpos_{peptide.pep_name}_insertion_curv_100.csv\")"
   ]
  }
 ],
 "metadata": {
  "kernelspec": {
   "display_name": "wf_synergy_all_peps",
   "language": "python",
   "name": "python3"
  },
  "language_info": {
   "codemirror_mode": {
    "name": "ipython",
    "version": 3
   },
   "file_extension": ".py",
   "mimetype": "text/x-python",
   "name": "python",
   "nbconvert_exporter": "python",
   "pygments_lexer": "ipython3",
   "version": "3.9.16"
  }
 },
 "nbformat": 4,
 "nbformat_minor": 2
}
